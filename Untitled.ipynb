{
 "cells": [
  {
   "cell_type": "code",
   "execution_count": 133,
   "metadata": {
    "collapsed": true
   },
   "outputs": [],
   "source": [
    "import matplotlib.pyplot as plt\n",
    "%matplotlib inline\n",
    "import random\n",
    "import numpy as np\n",
    "import torch\n",
    "import torch.nn as nn\n",
    "import torch.nn.functional as F\n",
    "from torch.autograd import Variable\n",
    "from tqdm import tqdm_notebook\n",
    "from nltk.corpus import wordnet as wn\n",
    "\n",
    "SEED = 42\n",
    "EPS = 1e-5\n",
    "torch.manual_seed(SEED)\n",
    "torch.cuda.manual_seed(SEED)\n",
    "torch.cuda.manual_seed_all(SEED)\n",
    "random.seed(SEED)\n",
    "np.random.seed(SEED)\n",
    "\n",
    "target = wn.synset('mammal.n.01')\n",
    "words = wn.words()"
   ]
  },
  {
   "cell_type": "code",
   "execution_count": 134,
   "metadata": {},
   "outputs": [
    {
     "name": "stdout",
     "output_type": "stream",
     "text": [
      "82115 nouns\n",
      "6542 hypernyms\n"
     ]
    }
   ],
   "source": [
    "nouns = set()\n",
    "for word in words:\n",
    "    nouns.update(wn.synsets(word, pos='n'))\n",
    "\n",
    "print(len(nouns), 'nouns')\n",
    "\n",
    "hypernyms = []\n",
    "for noun in nouns:\n",
    "    paths = noun.hypernym_paths()\n",
    "    for path in paths:\n",
    "        try:\n",
    "            pos = path.index(target)\n",
    "            for i in range(pos, len(path)-1):\n",
    "                hypernyms.append((noun, path[i]))\n",
    "        except Exception:\n",
    "            continue\n",
    "            \n",
    "hypernyms = np.array(list(set(hypernyms)))\n",
    "uniq_hypernyms = np.array(list(set([e for tup in hypernyms for e in tup])))\n",
    "\n",
    "word2idx = {val: i for i, val in enumerate(uniq_hypernyms)}\n",
    "random.shuffle(hypernyms)\n",
    "\n",
    "print(len(hypernyms), 'hypernyms' )"
   ]
  },
  {
   "cell_type": "code",
   "execution_count": 202,
   "metadata": {},
   "outputs": [],
   "source": [
    "def proj(params):\n",
    "    norm = params.norm(p=2, dim=1).unsqueeze(1)\n",
    "    norm[norm < 1] = 1+EPS\n",
    "    params = params.div(norm-EPS)\n",
    "    return params\n",
    "\n",
    "def arcosh(x):\n",
    "    return torch.log(x + torch.sqrt(x**2 - 1))\n",
    "\n",
    "def distance(u, v):\n",
    "    uu = u.norm()**2\n",
    "    #print('uu', uu)\n",
    "    vv = v.norm(dim=1)**2\n",
    "    #print('vv', uu)\n",
    "    uv = u.mm(v.t())\n",
    "    alpha = 1-uu\n",
    "    alpha = alpha.clamp(min=EPS)\n",
    "    beta = 1-vv\n",
    "    beta = beta.clamp(min=EPS)\n",
    "    #print(alpha, beta)\n",
    "    gamma = 1 + 2 * (uu - 2 * uv + vv) / (alpha * beta)\n",
    "    gamma = gamma.clamp(min=1)\n",
    "    #print('gamma', gamma)\n",
    "    \n",
    "    return arcosh(gamma)"
   ]
  },
  {
   "cell_type": "code",
   "execution_count": 209,
   "metadata": {
    "scrolled": false
   },
   "outputs": [
    {
     "data": {
      "application/vnd.jupyter.widget-view+json": {
       "model_id": "ca6e2b50313548d784d13c8b87e6d1b3"
      }
     },
     "metadata": {},
     "output_type": "display_data"
    },
    {
     "data": {
      "application/vnd.jupyter.widget-view+json": {
       "model_id": "bf802abc8de840bf8e9c4a90658e775f"
      }
     },
     "metadata": {},
     "output_type": "display_data"
    },
    {
     "name": "stdout",
     "output_type": "stream",
     "text": [
      "u Variable containing:\n",
      "1.00000e-04 *\n",
      " -9.1234  4.7022\n",
      "[torch.FloatTensor of size 1x2]\n",
      "\n",
      "v Variable containing:\n",
      "1.00000e-04 *\n",
      " -0.2804  5.1938\n",
      "[torch.FloatTensor of size 1x2]\n",
      "\n",
      "Variable containing:\n",
      " 0.9982\n",
      "[torch.FloatTensor of size 1x1]\n",
      "\n",
      "Variable containing:\n",
      " 0.9978  0.9992  0.9981  0.9975  0.9966  0.9979  1.0000  0.9967  0.9968  1.0000\n",
      "[torch.FloatTensor of size 1x10]\n",
      "\n",
      "Variable containing:\n",
      " 0.1000\n",
      "[torch.FloatTensor of size 1x1]\n",
      "\n",
      "\n",
      "nan nan\n",
      "[torch.FloatTensor of size 1x2]\n",
      "\n",
      "NaN in u grad\n"
     ]
    }
   ],
   "source": [
    "EPOCHS = 1\n",
    "DIM = 2\n",
    "LR = 0.1\n",
    "FINAL_LR = 0.0001\n",
    "NEG = 10\n",
    "\n",
    "EMBEDDINGS = torch.Tensor(len(uniq_hypernyms), DIM)\n",
    "nn.init.uniform(EMBEDDINGS, a=-0.001, b=0.001)\n",
    "\n",
    "NEG_SUMS = Variable(torch.zeros(EPOCHS, len(hypernyms), NEG))\n",
    "NEG_SAMPLES = torch.from_numpy(np.random.randint(0, len(uniq_hypernyms), size=(EPOCHS, len(hypernyms), NEG)))\n",
    "\n",
    "bar1 = tqdm_notebook(range(EPOCHS))\n",
    "for epoch in bar1:\n",
    "    bar2 = tqdm_notebook(hypernyms)\n",
    "    for i, (w1, w2) in enumerate(bar2):\n",
    "        i_w1 = word2idx[w1]\n",
    "        i_w2 = word2idx[w2]\n",
    "        u = Variable(EMBEDDINGS[i_w1].unsqueeze(0), requires_grad=True)\n",
    "        v = Variable(EMBEDDINGS[i_w2].unsqueeze(0), requires_grad=True)\n",
    "        negs = Variable(EMBEDDINGS[NEG_SAMPLES[epoch, i]], requires_grad=True)\n",
    "        \n",
    "        loss = torch.exp(-1*distance(u, v)) / torch.exp(-1*distance(u, negs)).sum()\n",
    "        #bar2.set_postfix(loss=loss.data[0, 0])\n",
    "        loss.backward()\n",
    "        \n",
    "        if True in np.isnan(u.grad.data.numpy()):\n",
    "            print('u', u)\n",
    "            print('v', v)\n",
    "            print(torch.exp(-distance(u, v)))\n",
    "            print(torch.exp(-distance(u, negs)))\n",
    "            print(loss)\n",
    "            print(u.grad.data)\n",
    "            print('NaN in u grad')\n",
    "            break\n",
    "        if True in np.isnan(v.grad.data.numpy()):\n",
    "            print(v.grad.data)\n",
    "            print('NaN in v grad')\n",
    "            break\n",
    "        if True in np.isnan(negs.grad.data.numpy()):\n",
    "            print(negs.grad.data)\n",
    "            print('NaN in negs grad')\n",
    "            break\n",
    "        \n",
    "        EMBEDDINGS[NEG_SAMPLES[epoch, i]] -= LR * (((1-negs.norm(dim=1)) ** 2) / 4).data.unsqueeze(1) * negs.grad.data\n",
    "        EMBEDDINGS[i_w1] -= LR * (((1-u.norm()) ** 2) / 4).data * u.grad.data\n",
    "        EMBEDDINGS[i_w2] -= LR * (((1-v.norm()) ** 2) / 4).data * v.grad.data\n",
    "        \n",
    "        EMBEDDINGS = proj(EMBEDDINGS)"
   ]
  },
  {
   "cell_type": "code",
   "execution_count": 207,
   "metadata": {},
   "outputs": [
    {
     "name": "stdout",
     "output_type": "stream",
     "text": [
      "30  targets found\n",
      "plot\n",
      "-0.0033492 0.00472441\n",
      "-0.00324377 0.00496595\n",
      "-0.00491809 0.00955591\n",
      "-0.00369045 0.00451895\n",
      "-0.00409127 0.00425871\n",
      "-0.00355877 0.00669188\n",
      "-0.00821305 0.00707123\n",
      "-0.0045663 0.00424897\n",
      "-0.00404248 0.0042209\n",
      "-0.00343869 0.00397587\n",
      "-0.0032903 0.00487078\n",
      "-0.0028537 0.00508292\n",
      "-0.00356724 0.0051238\n",
      "-0.0037157 0.00561503\n",
      "-0.247868 -0.200394\n",
      "-0.00213698 0.00502645\n",
      "-0.00386649 0.00536785\n",
      "-0.00346867 0.00568777\n",
      "-0.00468664 0.00698929\n",
      "-0.00282984 0.00376169\n",
      "-0.00300227 0.00649746\n",
      "-0.00422394 0.00356037\n",
      "-0.00235403 0.00428528\n",
      "-0.00334079 0.0047425\n",
      "-0.0041135 0.00540165\n",
      "-0.00544432 0.0041138\n",
      "-0.264258 -0.182586\n",
      "-0.0045117 0.00405793\n",
      "-0.00343921 0.0035611\n",
      "0.265834 -0.732015\n"
     ]
    },
    {
     "data": {
      "image/png": "[encoded data removed]",
      "text/plain": [
       "<matplotlib.figure.Figure at 0x7f1caaff8a20>"
      ]
     },
     "metadata": {},
     "output_type": "display_data"
    }
   ],
   "source": [
    "lhds, rhds = hypernyms[:, 0], hypernyms[:, 1]\n",
    "\n",
    "targets = set(lhd for i, lhd in enumerate(lhds) if rhds[i] == target)\n",
    "embeddings = EMBEDDINGS.numpy()\n",
    "\n",
    "if len(targets) + 1 > 30:\n",
    "    targets = random.sample(targets, 30-1)\n",
    "targets.append(target)\n",
    "print(len(targets), ' targets found')\n",
    "\n",
    "print(\"plot\")\n",
    "fig = plt.figure(figsize=(10,10))\n",
    "ax = plt.gca()\n",
    "ax.cla() # clear things for fresh plot\n",
    "\n",
    "ax.set_xlim((-1.1, 1.1))\n",
    "ax.set_ylim((-1.1, 1.1))\n",
    "\n",
    "circle = plt.Circle((0,0), 1., color='black', fill=False)\n",
    "ax.add_artist(circle)\n",
    "\n",
    "for n in targets:\n",
    "    x, y = embeddings[word2idx[n]]\n",
    "    print(x, y)\n",
    "    ax.plot(x, y, 'o', color='y')\n",
    "    ax.text(x+0.01, y+0.01, n, color='b')\n",
    "plt.show()"
   ]
  },
  {
   "cell_type": "code",
   "execution_count": null,
   "metadata": {
    "collapsed": true
   },
   "outputs": [],
   "source": []
  }
 ],
 "metadata": {
  "kernelspec": {
   "display_name": "Python 3",
   "language": "python",
   "name": "python3"
  },
  "language_info": {
   "codemirror_mode": {
    "name": "ipython",
    "version": 3
   },
   "file_extension": ".py",
   "mimetype": "text/x-python",
   "name": "python",
   "nbconvert_exporter": "python",
   "pygments_lexer": "ipython3",
   "version": "3.5.2"
  }
 },
 "nbformat": 4,
 "nbformat_minor": 2
}
